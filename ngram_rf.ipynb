{
 "cells": [
  {
   "cell_type": "code",
   "execution_count": 180,
   "id": "a4394f48",
   "metadata": {},
   "outputs": [],
   "source": [
    "import pandas as pd\n",
    "import math\n",
    "import re\n",
    "from collections import defaultdict, Counter\n",
    "from sklearn.model_selection import train_test_split\n",
    "from sklearn.metrics import accuracy_score, classification_report, confusion_matrix, ConfusionMatrixDisplay\n",
    "from sklearn.feature_extraction.text import CountVectorizer\n",
    "from sklearn.ensemble import RandomForestClassifier"
   ]
  },
  {
   "cell_type": "code",
   "execution_count": 181,
   "id": "f75651f8",
   "metadata": {},
   "outputs": [],
   "source": [
    "df = pd.read_csv('SMSSpamCollection.csv', header=None)"
   ]
  },
  {
   "cell_type": "code",
   "execution_count": 182,
   "id": "89070e85",
   "metadata": {},
   "outputs": [
    {
     "data": {
      "text/html": [
       "<div>\n",
       "<style scoped>\n",
       "    .dataframe tbody tr th:only-of-type {\n",
       "        vertical-align: middle;\n",
       "    }\n",
       "\n",
       "    .dataframe tbody tr th {\n",
       "        vertical-align: top;\n",
       "    }\n",
       "\n",
       "    .dataframe thead th {\n",
       "        text-align: right;\n",
       "    }\n",
       "</style>\n",
       "<table border=\"1\" class=\"dataframe\">\n",
       "  <thead>\n",
       "    <tr style=\"text-align: right;\">\n",
       "      <th></th>\n",
       "      <th>0</th>\n",
       "      <th>1</th>\n",
       "    </tr>\n",
       "  </thead>\n",
       "  <tbody>\n",
       "    <tr>\n",
       "      <th>0</th>\n",
       "      <td>ham</td>\n",
       "      <td>Go until jurong point, crazy.. Available only ...</td>\n",
       "    </tr>\n",
       "    <tr>\n",
       "      <th>1</th>\n",
       "      <td>ham</td>\n",
       "      <td>Ok lar... Joking wif u oni...</td>\n",
       "    </tr>\n",
       "    <tr>\n",
       "      <th>2</th>\n",
       "      <td>spam</td>\n",
       "      <td>Free entry in 2 a wkly comp to win FA Cup fina...</td>\n",
       "    </tr>\n",
       "    <tr>\n",
       "      <th>3</th>\n",
       "      <td>ham</td>\n",
       "      <td>U dun say so early hor... U c already then say...</td>\n",
       "    </tr>\n",
       "    <tr>\n",
       "      <th>4</th>\n",
       "      <td>ham</td>\n",
       "      <td>Nah I don't think he goes to usf, he lives aro...</td>\n",
       "    </tr>\n",
       "  </tbody>\n",
       "</table>\n",
       "</div>"
      ],
      "text/plain": [
       "      0                                                  1\n",
       "0   ham  Go until jurong point, crazy.. Available only ...\n",
       "1   ham                      Ok lar... Joking wif u oni...\n",
       "2  spam  Free entry in 2 a wkly comp to win FA Cup fina...\n",
       "3   ham  U dun say so early hor... U c already then say...\n",
       "4   ham  Nah I don't think he goes to usf, he lives aro..."
      ]
     },
     "execution_count": 182,
     "metadata": {},
     "output_type": "execute_result"
    }
   ],
   "source": [
    "df.head()"
   ]
  },
  {
   "cell_type": "code",
   "execution_count": 183,
   "id": "f863b579",
   "metadata": {},
   "outputs": [],
   "source": [
    "df.columns = ['label', 'message']"
   ]
  },
  {
   "cell_type": "code",
   "execution_count": 184,
   "id": "e3d97406",
   "metadata": {},
   "outputs": [
    {
     "name": "stdout",
     "output_type": "stream",
     "text": [
      "Index(['label', 'message'], dtype='object')\n"
     ]
    }
   ],
   "source": [
    "print(df.columns)"
   ]
  },
  {
   "cell_type": "code",
   "execution_count": 185,
   "id": "f6736982",
   "metadata": {},
   "outputs": [],
   "source": [
    "df[\"label\"] = df[\"label\"].map({\"ham\": 0, \"spam\": 1})"
   ]
  },
  {
   "cell_type": "code",
   "execution_count": 186,
   "id": "305cdef2",
   "metadata": {},
   "outputs": [
    {
     "data": {
      "text/html": [
       "<div>\n",
       "<style scoped>\n",
       "    .dataframe tbody tr th:only-of-type {\n",
       "        vertical-align: middle;\n",
       "    }\n",
       "\n",
       "    .dataframe tbody tr th {\n",
       "        vertical-align: top;\n",
       "    }\n",
       "\n",
       "    .dataframe thead th {\n",
       "        text-align: right;\n",
       "    }\n",
       "</style>\n",
       "<table border=\"1\" class=\"dataframe\">\n",
       "  <thead>\n",
       "    <tr style=\"text-align: right;\">\n",
       "      <th></th>\n",
       "      <th>label</th>\n",
       "      <th>message</th>\n",
       "    </tr>\n",
       "  </thead>\n",
       "  <tbody>\n",
       "    <tr>\n",
       "      <th>0</th>\n",
       "      <td>0</td>\n",
       "      <td>Go until jurong point, crazy.. Available only ...</td>\n",
       "    </tr>\n",
       "    <tr>\n",
       "      <th>1</th>\n",
       "      <td>0</td>\n",
       "      <td>Ok lar... Joking wif u oni...</td>\n",
       "    </tr>\n",
       "    <tr>\n",
       "      <th>2</th>\n",
       "      <td>1</td>\n",
       "      <td>Free entry in 2 a wkly comp to win FA Cup fina...</td>\n",
       "    </tr>\n",
       "    <tr>\n",
       "      <th>3</th>\n",
       "      <td>0</td>\n",
       "      <td>U dun say so early hor... U c already then say...</td>\n",
       "    </tr>\n",
       "    <tr>\n",
       "      <th>4</th>\n",
       "      <td>0</td>\n",
       "      <td>Nah I don't think he goes to usf, he lives aro...</td>\n",
       "    </tr>\n",
       "  </tbody>\n",
       "</table>\n",
       "</div>"
      ],
      "text/plain": [
       "   label                                            message\n",
       "0      0  Go until jurong point, crazy.. Available only ...\n",
       "1      0                      Ok lar... Joking wif u oni...\n",
       "2      1  Free entry in 2 a wkly comp to win FA Cup fina...\n",
       "3      0  U dun say so early hor... U c already then say...\n",
       "4      0  Nah I don't think he goes to usf, he lives aro..."
      ]
     },
     "execution_count": 186,
     "metadata": {},
     "output_type": "execute_result"
    }
   ],
   "source": [
    "df.head()"
   ]
  },
  {
   "cell_type": "code",
   "execution_count": 187,
   "id": "871c1d96",
   "metadata": {},
   "outputs": [],
   "source": [
    "train, test = train_test_split(\n",
    "    df,\n",
    "    test_size=0.2,\n",
    "    stratify=df[\"label\"],\n",
    "    random_state=42\n",
    ")"
   ]
  },
  {
   "cell_type": "code",
   "execution_count": 188,
   "id": "b88690c1",
   "metadata": {},
   "outputs": [],
   "source": [
    "def tokenize(text):\n",
    "    text = text.lower()  \n",
    "    text = re.sub(r\"[^a-z0-9\\s]\", \"\", text)  \n",
    "    return text.split()"
   ]
  },
  {
   "cell_type": "code",
   "execution_count": 189,
   "id": "3701062c",
   "metadata": {},
   "outputs": [],
   "source": [
    "train[\"tokens\"] = train[\"message\"].apply(tokenize)\n",
    "test[\"tokens\"]  = test[\"message\"].apply(tokenize)"
   ]
  },
  {
   "cell_type": "code",
   "execution_count": 190,
   "id": "e39826c6",
   "metadata": {},
   "outputs": [
    {
     "data": {
      "text/html": [
       "<div>\n",
       "<style scoped>\n",
       "    .dataframe tbody tr th:only-of-type {\n",
       "        vertical-align: middle;\n",
       "    }\n",
       "\n",
       "    .dataframe tbody tr th {\n",
       "        vertical-align: top;\n",
       "    }\n",
       "\n",
       "    .dataframe thead th {\n",
       "        text-align: right;\n",
       "    }\n",
       "</style>\n",
       "<table border=\"1\" class=\"dataframe\">\n",
       "  <thead>\n",
       "    <tr style=\"text-align: right;\">\n",
       "      <th></th>\n",
       "      <th>label</th>\n",
       "      <th>message</th>\n",
       "      <th>tokens</th>\n",
       "    </tr>\n",
       "  </thead>\n",
       "  <tbody>\n",
       "    <tr>\n",
       "      <th>184</th>\n",
       "      <td>0</td>\n",
       "      <td>He will, you guys close?</td>\n",
       "      <td>[he, will, you, guys, close]</td>\n",
       "    </tr>\n",
       "    <tr>\n",
       "      <th>2171</th>\n",
       "      <td>0</td>\n",
       "      <td>CAN I PLEASE COME UP NOW IMIN TOWN.DONTMATTER ...</td>\n",
       "      <td>[can, i, please, come, up, now, imin, towndont...</td>\n",
       "    </tr>\n",
       "    <tr>\n",
       "      <th>5422</th>\n",
       "      <td>0</td>\n",
       "      <td>Ok k..sry i knw 2 siva..tats y i askd..</td>\n",
       "      <td>[ok, ksry, i, knw, 2, sivatats, y, i, askd]</td>\n",
       "    </tr>\n",
       "    <tr>\n",
       "      <th>4113</th>\n",
       "      <td>0</td>\n",
       "      <td>I'll see, but prolly yeah</td>\n",
       "      <td>[ill, see, but, prolly, yeah]</td>\n",
       "    </tr>\n",
       "    <tr>\n",
       "      <th>4588</th>\n",
       "      <td>0</td>\n",
       "      <td>I'll see if I can swing by in a bit, got some ...</td>\n",
       "      <td>[ill, see, if, i, can, swing, by, in, a, bit, ...</td>\n",
       "    </tr>\n",
       "  </tbody>\n",
       "</table>\n",
       "</div>"
      ],
      "text/plain": [
       "      label                                            message  \\\n",
       "184       0                           He will, you guys close?   \n",
       "2171      0  CAN I PLEASE COME UP NOW IMIN TOWN.DONTMATTER ...   \n",
       "5422      0            Ok k..sry i knw 2 siva..tats y i askd..   \n",
       "4113      0                          I'll see, but prolly yeah   \n",
       "4588      0  I'll see if I can swing by in a bit, got some ...   \n",
       "\n",
       "                                                 tokens  \n",
       "184                        [he, will, you, guys, close]  \n",
       "2171  [can, i, please, come, up, now, imin, towndont...  \n",
       "5422        [ok, ksry, i, knw, 2, sivatats, y, i, askd]  \n",
       "4113                      [ill, see, but, prolly, yeah]  \n",
       "4588  [ill, see, if, i, can, swing, by, in, a, bit, ...  "
      ]
     },
     "execution_count": 190,
     "metadata": {},
     "output_type": "execute_result"
    }
   ],
   "source": [
    "train.head()"
   ]
  },
  {
   "cell_type": "code",
   "execution_count": 191,
   "id": "e9066ab6",
   "metadata": {},
   "outputs": [
    {
     "data": {
      "text/html": [
       "<div>\n",
       "<style scoped>\n",
       "    .dataframe tbody tr th:only-of-type {\n",
       "        vertical-align: middle;\n",
       "    }\n",
       "\n",
       "    .dataframe tbody tr th {\n",
       "        vertical-align: top;\n",
       "    }\n",
       "\n",
       "    .dataframe thead th {\n",
       "        text-align: right;\n",
       "    }\n",
       "</style>\n",
       "<table border=\"1\" class=\"dataframe\">\n",
       "  <thead>\n",
       "    <tr style=\"text-align: right;\">\n",
       "      <th></th>\n",
       "      <th>label</th>\n",
       "      <th>message</th>\n",
       "      <th>tokens</th>\n",
       "    </tr>\n",
       "  </thead>\n",
       "  <tbody>\n",
       "    <tr>\n",
       "      <th>2825</th>\n",
       "      <td>0</td>\n",
       "      <td>No need to buy lunch for me.. I eat maggi mee..</td>\n",
       "      <td>[no, need, to, buy, lunch, for, me, i, eat, ma...</td>\n",
       "    </tr>\n",
       "    <tr>\n",
       "      <th>3695</th>\n",
       "      <td>0</td>\n",
       "      <td>Ok im not sure what time i finish tomorrow but...</td>\n",
       "      <td>[ok, im, not, sure, what, time, i, finish, tom...</td>\n",
       "    </tr>\n",
       "    <tr>\n",
       "      <th>3904</th>\n",
       "      <td>0</td>\n",
       "      <td>Waiting in e car 4 my mum lor. U leh? Reach ho...</td>\n",
       "      <td>[waiting, in, e, car, 4, my, mum, lor, u, leh,...</td>\n",
       "    </tr>\n",
       "    <tr>\n",
       "      <th>576</th>\n",
       "      <td>1</td>\n",
       "      <td>You have won ?1,000 cash or a ?2,000 prize! To...</td>\n",
       "      <td>[you, have, won, 1000, cash, or, a, 2000, priz...</td>\n",
       "    </tr>\n",
       "    <tr>\n",
       "      <th>2899</th>\n",
       "      <td>0</td>\n",
       "      <td>If you r @ home then come down within 5 min</td>\n",
       "      <td>[if, you, r, home, then, come, down, within, 5...</td>\n",
       "    </tr>\n",
       "  </tbody>\n",
       "</table>\n",
       "</div>"
      ],
      "text/plain": [
       "      label                                            message  \\\n",
       "2825      0    No need to buy lunch for me.. I eat maggi mee..   \n",
       "3695      0  Ok im not sure what time i finish tomorrow but...   \n",
       "3904      0  Waiting in e car 4 my mum lor. U leh? Reach ho...   \n",
       "576       1  You have won ?1,000 cash or a ?2,000 prize! To...   \n",
       "2899      0        If you r @ home then come down within 5 min   \n",
       "\n",
       "                                                 tokens  \n",
       "2825  [no, need, to, buy, lunch, for, me, i, eat, ma...  \n",
       "3695  [ok, im, not, sure, what, time, i, finish, tom...  \n",
       "3904  [waiting, in, e, car, 4, my, mum, lor, u, leh,...  \n",
       "576   [you, have, won, 1000, cash, or, a, 2000, priz...  \n",
       "2899  [if, you, r, home, then, come, down, within, 5...  "
      ]
     },
     "execution_count": 191,
     "metadata": {},
     "output_type": "execute_result"
    }
   ],
   "source": [
    "test.head()"
   ]
  },
  {
   "cell_type": "code",
   "execution_count": 192,
   "id": "924e4c4f",
   "metadata": {},
   "outputs": [],
   "source": [
    "all_words = Counter(w for toks in train[\"tokens\"] for w in toks)\n",
    "vocab = {w for w, c in all_words.items() if c >= 2}\n",
    "vocab |= {\"<s>\", \"</s>\", \"<u>\"}"
   ]
  },
  {
   "cell_type": "code",
   "execution_count": 193,
   "id": "7417d1f4",
   "metadata": {},
   "outputs": [],
   "source": [
    "def build_counts(df_sub):\n",
    "    bg, uw = defaultdict(float), defaultdict(float)\n",
    "    for toks in df_sub[\"tokens\"]:\n",
    "        seq = [\"<s>\"] + [w if w in vocab else \"<u>\" for w in toks] + [\"</s>\"]\n",
    "        for i in range(1, len(seq)):\n",
    "            uw[seq[i-1]] += 1\n",
    "            bg[(seq[i-1], seq[i])] += 1\n",
    "    return bg, uw"
   ]
  },
  {
   "cell_type": "code",
   "execution_count": 194,
   "id": "70728c79",
   "metadata": {},
   "outputs": [],
   "source": [
    "bg_ham, uw_ham = build_counts(train[train[\"label\"] == 0])\n",
    "bg_spam, uw_spam = build_counts(train[train[\"label\"] == 1])\n",
    "V = len(vocab)"
   ]
  },
  {
   "cell_type": "code",
   "execution_count": 195,
   "id": "afd2ba94",
   "metadata": {},
   "outputs": [],
   "source": [
    "def score(tokens, bg_counts, uw_counts, V, k=0.5):\n",
    "    seq = [\"<s>\"] + [w if w in vocab else \"<u>\" for w in tokens] + [\"</s>\"]\n",
    "    total = 0.0\n",
    "    for i in range(1, len(seq)):\n",
    "        num = bg_counts[(seq[i-1], seq[i])] + k\n",
    "        den = uw_counts[seq[i-1]] + k * V\n",
    "        total += math.log(num) - math.log(den)\n",
    "    return total"
   ]
  },
  {
   "cell_type": "code",
   "execution_count": 196,
   "id": "cf820a7c",
   "metadata": {},
   "outputs": [],
   "source": [
    "def predict_ngram(tokens):\n",
    "    return 1 if score(tokens, bg_spam, uw_spam, V) > score(tokens, bg_ham, uw_ham, V) else 0"
   ]
  },
  {
   "cell_type": "code",
   "execution_count": 197,
   "id": "f2036ebb",
   "metadata": {},
   "outputs": [],
   "source": [
    "y_true = test[\"label\"]\n",
    "y_pred = test[\"tokens\"].apply(predict_ngram)"
   ]
  },
  {
   "cell_type": "code",
   "execution_count": 198,
   "id": "9981da68",
   "metadata": {},
   "outputs": [
    {
     "name": "stdout",
     "output_type": "stream",
     "text": [
      "Test accuracy: 0.9722\n",
      "\n",
      "\n",
      "N‑Gram Classification Report:\n",
      "               precision    recall  f1-score   support\n",
      "\n",
      "         ham       0.97      1.00      0.98       966\n",
      "        spam       0.98      0.81      0.89       149\n",
      "\n",
      "    accuracy                           0.97      1115\n",
      "   macro avg       0.97      0.90      0.94      1115\n",
      "weighted avg       0.97      0.97      0.97      1115\n",
      "\n"
     ]
    }
   ],
   "source": [
    "acc_ng = accuracy_score(y_true, y_pred)\n",
    "print(f\"Test accuracy: {acc_ng:.4f}\\n\\n\")\n",
    "print(\"N‑Gram Classification Report:\\n\",\n",
    "      classification_report(y_true, y_pred, target_names=[\"ham\", \"spam\"]))"
   ]
  },
  {
   "cell_type": "code",
   "execution_count": 199,
   "id": "ef3d29fb",
   "metadata": {},
   "outputs": [
    {
     "data": {
      "image/png": "[encoded data removed]",
      "text/plain": [
       "<Figure size 500x400 with 2 Axes>"
      ]
     },
     "metadata": {},
     "output_type": "display_data"
    }
   ],
   "source": [
    "import matplotlib.pyplot as plt\n",
    "import seaborn as sns\n",
    "\n",
    "cm_ng = confusion_matrix(y_true, y_pred, labels=[0,1])\n",
    "plt.figure(figsize=(5,4))\n",
    "sns.heatmap(cm, annot=True, fmt='d', cmap='Blues')\n",
    "plt.title(\"Confusion Matrix N-gram\")\n",
    "plt.xlabel(\"Predicted\")\n",
    "plt.ylabel(\"Actual\")\n",
    "plt.show()"
   ]
  },
  {
   "cell_type": "code",
   "execution_count": 200,
   "id": "ee7991a5",
   "metadata": {},
   "outputs": [],
   "source": [
    "bow = CountVectorizer(ngram_range=(1,2), min_df=2)\n",
    "X_train = bow.fit_transform(train[\"message\"])\n",
    "X_test  = bow.transform(test[\"message\"])\n",
    "y_train = train[\"label\"]\n",
    "y_test  = test[\"label\"]"
   ]
  },
  {
   "cell_type": "code",
   "execution_count": 201,
   "id": "29f9aaa0",
   "metadata": {},
   "outputs": [],
   "source": [
    "rf = RandomForestClassifier(\n",
    "    n_estimators=100,\n",
    "    max_features='sqrt',\n",
    "    oob_score=True,\n",
    "    random_state=42,\n",
    "    n_jobs=-1\n",
    ")"
   ]
  },
  {
   "cell_type": "code",
   "execution_count": 202,
   "id": "725b451d",
   "metadata": {},
   "outputs": [
    {
     "name": "stdout",
     "output_type": "stream",
     "text": [
      "RF OOB Score: 0.979582678932017\n"
     ]
    }
   ],
   "source": [
    "rf.fit(X_train, y_train)\n",
    "print(\"RF OOB Score:\", rf.oob_score_)"
   ]
  },
  {
   "cell_type": "code",
   "execution_count": 203,
   "id": "2e49c9c7",
   "metadata": {},
   "outputs": [
    {
     "name": "stdout",
     "output_type": "stream",
     "text": [
      "Test accuracy: 0.9731\n",
      "\n",
      "\n",
      "Random Forest Classification Report:\n",
      "               precision    recall  f1-score   support\n",
      "\n",
      "         ham       0.97      1.00      0.98       966\n",
      "        spam       1.00      0.80      0.89       149\n",
      "\n",
      "    accuracy                           0.97      1115\n",
      "   macro avg       0.98      0.90      0.94      1115\n",
      "weighted avg       0.97      0.97      0.97      1115\n",
      "\n"
     ]
    }
   ],
   "source": [
    "y_pred_rf = rf.predict(X_test)\n",
    "acc_rf = accuracy_score(y_test, y_pred_rf)\n",
    "print(f\"Test accuracy: {acc_rf:.4f}\\n\\n\")\n",
    "print(\"Random Forest Classification Report:\\n\",\n",
    "      classification_report(y_test, y_pred_rf, target_names=[\"ham\",\"spam\"]))"
   ]
  },
  {
   "cell_type": "code",
   "execution_count": 204,
   "id": "b06882d8-6fe4-4bcc-ac6b-89b46dc4c0c4",
   "metadata": {},
   "outputs": [
    {
     "data": {
      "image/png": "[encoded data removed]",
      "text/plain": [
       "<Figure size 500x400 with 2 Axes>"
      ]
     },
     "metadata": {},
     "output_type": "display_data"
    }
   ],
   "source": [
    "cm_rf = confusion_matrix(y_test, y_pred_rf, labels=[0,1])\n",
    "\n",
    "plt.figure(figsize=(5,4))\n",
    "sns.heatmap(cm_rf, annot=True, fmt='d', cmap='Purples')\n",
    "plt.title(\"Confusion Matrix Random Forest\")\n",
    "plt.xlabel(\"Predicted\")\n",
    "plt.ylabel(\"Actual\")\n",
    "plt.show()"
   ]
  },
  {
   "cell_type": "code",
   "execution_count": null,
   "id": "14c64658-b82f-4f60-ad87-a6f45fb4d134",
   "metadata": {},
   "outputs": [],
   "source": []
  }
 ],
 "metadata": {
  "kernelspec": {
   "display_name": "Python 3 (ipykernel)",
   "language": "python",
   "name": "python3"
  },
  "language_info": {
   "codemirror_mode": {
    "name": "ipython",
    "version": 3
   },
   "file_extension": ".py",
   "mimetype": "text/x-python",
   "name": "python",
   "nbconvert_exporter": "python",
   "pygments_lexer": "ipython3",
   "version": "3.9.13"
  }
 },
 "nbformat": 4,
 "nbformat_minor": 5
}
